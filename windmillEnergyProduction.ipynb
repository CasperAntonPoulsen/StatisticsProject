{
 "cells": [
  {
   "cell_type": "markdown",
   "metadata": {},
   "source": [
    "# Predicting energy production of windmills using weather forecasts\n",
    "\n",
    "This project proposes a method of modelling weather forecast data with the express purpose of predicting the amount of energy produced by windmills. We will be using energy data from windmills located in Orkney, Scotland aswell as weather forecast data from the region, specifying windspeeds and directions at a given timestep. \n",
    "\n",
    "The windmills in Orkney are in charge of the majority of the energy production in the region, with over 500 windmills. Orkney being a cluster of islands off of the northern coast of Scotland, are subject to a lot of heavy wind making it an ideal place for windmills. In periods of incredibly strong wind and low local demand for energy, the network of windmills in Orkney produce an excess of energy which can be sold off to energy companies. \n",
    "\n",
    "Selling off spare energy is an active descision which requires knowing when excess energy will be generated and when to stop, as to not be subjected to fees and tarifs. This makes the ability to correctly predict when energy generation will be high an important fiscal tool. \n",
    "\n",
    "We therefore propose to use a varying array of supervised methods of regression to predict future energy generation. "
   ]
  },
  {
   "cell_type": "code",
   "execution_count": null,
   "metadata": {},
   "outputs": [],
   "source": [
    "import "
   ]
  },
  {
   "cell_type": "markdown",
   "metadata": {},
   "source": [
    "## Data Preperation\n",
    "\n",
    "Before applying any statistical methods, we need to prepare the data for modelling. This is broken down into two distinct tasks. The first task is to transform and normalize the wind data as it has a mixture of data types and the second is to allign the two data sources. \n",
    "\n",
    "### Wind data transformation\n",
    "\n",
    "The wind data has two distinct data points, being the wind speed (numeric) and the wind direction (nominal). This mixture of data types is usually not ideal. We therefore propose transforming the wind data into a 2d vector. The windspeed is the magnitude of the vector and the wind direction will be the direction of the vector. The values of the vector will then be our new data points. \n",
    "\n",
    "### Data alignment\n",
    "\n"
   ]
  }
 ],
 "metadata": {
  "kernelspec": {
   "display_name": "Python 3.9.7 ('base')",
   "language": "python",
   "name": "python3"
  },
  "language_info": {
   "name": "python",
   "version": "3.9.7"
  },
  "orig_nbformat": 4,
  "vscode": {
   "interpreter": {
    "hash": "cf34cc07316b496ef21ccfcc37b7242b118d7bcf308d0fc28702ead97898d4a4"
   }
  }
 },
 "nbformat": 4,
 "nbformat_minor": 2
}
